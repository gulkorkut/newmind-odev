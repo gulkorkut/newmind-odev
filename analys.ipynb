{
 "cells": [
  {
   "cell_type": "code",
   "execution_count": null,
   "metadata": {},
   "outputs": [],
   "source": [
    "import pandas as pd\n",
    "import numpy as np\n",
    "\n",
    "# Veri yükleme\n",
    "sales_data = pd.read_csv('satis_verisi_5000.csv')\n",
    "customer_data = pd.read_csv('musteri_verisi_5000_utf8.csv')\n",
    "\n",
    "# Eksik veri kontrolü\n",
    "print(\"Sales data: \",sales_data.isnull().sum())\n",
    "print(\"Customer data: \",customer_data.isnull().sum())\n",
    "\n",
    "# Eksik verileri doldurma\n",
    "# Satış fiyatındaki eksik verileri satış fiyatlarının ortalaması ile dolduruyoruz\n",
    "sales_data['fiyat'].fillna(sales_data['fiyat'].mean(), inplace=True)\n",
    "\n",
    "# Müşteri harcama miktarındaki eksik verileri harcama miktarlarının medyanı ile dolduruyoruz\n",
    "customer_data['harcama_miktari'].fillna(customer_data['harcama_miktari'].median(), inplace=True)\n",
    "\n",
    "# Aykırı değerleri temizleme\n",
    "# Satış fiyatındaki aykırı değerleri 95. yüzdelik dilime kadar filtreliyoruz\n",
    "sales_data = sales_data[sales_data['fiyat'] < sales_data['fiyat'].quantile(0.95)]\n",
    "\n",
    "# Müşteri harcama miktarındaki aykırı değerleri 95. yüzdelik dilime kadar filtreliyoruz\n",
    "customer_data = customer_data[customer_data['harcama_miktari'] < customer_data['harcama_miktari'].quantile(0.95)]\n",
    "\n",
    "# Veri birleştirme\n",
    "# Satış verilerini müşteri verileri ile müşteri_id'ye göre birleştiriyoruz\n",
    "merged_data = pd.merge(sales_data, customer_data, on='musteri_id', how='inner')\n"
   ]
  },
  {
   "cell_type": "code",
   "execution_count": null,
   "metadata": {},
   "outputs": [],
   "source": [
    "import matplotlib.pyplot as plt\n",
    "\n",
    "# Tarih sütununu datetime formatına çevirme\n",
    "merged_data['tarih'] = pd.to_datetime(merged_data['tarih'])\n",
    "\n",
    "# Hafta ve ay bilgilerini çıkarma\n",
    "# Satış tarihinden hafta bilgilerini alıyoruz\n",
    "merged_data['hafta'] = merged_data['tarih'].dt.isocalendar().week\n",
    "\n",
    "# Satış tarihinden ay bilgisini alıyoruz\n",
    "merged_data['ay'] = merged_data['tarih'].dt.month\n",
    "\n",
    "# Haftalık ve aylık toplam satışlar\n",
    "# Haftalık toplam satışları gruplayarak hesaplıyoruz\n",
    "weekly_sales = merged_data.groupby('hafta')['toplam_satis'].sum()\n",
    "# Aylık toplam satışları gruplayarak hesaplıyoruz\n",
    "monthly_sales = merged_data.groupby('ay')['toplam_satis'].sum()\n",
    "\n",
    "# Grafik \n",
    "plt.plot(monthly_sales)\n",
    "plt.title(\"Aylık Satış Trendleri\")\n",
    "plt.xlabel(\"Ay\")\n",
    "plt.ylabel(\"Toplam Satış\")\n",
    "plt.show()\n"
   ]
  },
  {
   "cell_type": "code",
   "execution_count": null,
   "metadata": {},
   "outputs": [],
   "source": [
    "# Grafik\n",
    "plt.plot(weekly_sales)\n",
    "plt.title(\"Haftalık Satış Trendleri\")\n",
    "plt.xlabel(\"Hafta\")\n",
    "plt.ylabel(\"Toplam Satış\")\n",
    "plt.show()\n"
   ]
  },
  {
   "cell_type": "code",
   "execution_count": null,
   "metadata": {},
   "outputs": [],
   "source": [
    "# Kategorik analiz: Ürün kategorilerine göre satış\n",
    "# Kategori bazında toplam satışları hesaplıyoruz\n",
    "category_sales = merged_data.groupby('kategori')['toplam_satis'].sum()\n",
    "\n",
    "# Yaş gruplarına göre satışlar\n",
    "# Yaş gruplarını belirliyoruz (18-25, 26-35, 36-50, 50+)\n",
    "age_bins = [0, 25, 35, 50, np.inf]\n",
    "age_labels = ['18-25', '26-35', '36-50', '50+']\n",
    "merged_data['age_group'] = pd.cut(merged_data['yas'], bins=age_bins, labels=age_labels)\n",
    "\n",
    "# Yaş gruplarına göre toplam satışları hesaplıyoruz\n",
    "age_group_sales = merged_data.groupby('age_group')['toplam_satis'].sum()\n",
    "# Cinsiyet bazında toplam harcama miktarlarını hesaplıyoruz\n",
    "gender_spending = merged_data.groupby('cinsiyet')['harcama_miktari'].sum()\n"
   ]
  },
  {
   "cell_type": "code",
   "execution_count": null,
   "metadata": {},
   "outputs": [],
   "source": [
    "# Şehir bazında toplam harcama miktarlarını hesaplıyoruz\n",
    "city_spending = merged_data.groupby('sehir')['harcama_miktari'].sum()\n",
    "# Önceki aya ait satış verilerini alıyoruz\n",
    "merged_data['previous_month_sales'] = merged_data.groupby('ürün_kodu')['toplam_satis'].shift(1)\n",
    "# Satış değişim yüzdesini hesaplıyoruz\n",
    "merged_data['sales_change_percentage'] = (merged_data['toplam_satis'] - merged_data['previous_month_sales']) / merged_data['previous_month_sales'] * 100\n",
    "# Aylık kategorik satış değişim oranı hesaplama\n",
    "monthly_category_sales = merged_data.groupby(['kategori', 'ay'])['toplam_satis'].sum()\n",
    "monthly_category_sales_percentage_change = monthly_category_sales.pct_change() * 100\n"
   ]
  },
  {
   "cell_type": "code",
   "execution_count": null,
   "metadata": {},
   "outputs": [],
   "source": [
    "# Pareto analizi\n",
    "# Ürün kodlarına göre toplam satışları hesaplıyoruz ve azalan sırayla sıralıyoruz\n",
    "pareto_data = merged_data.groupby('ürün_kodu')['toplam_satis'].sum().sort_values(ascending=False)\n",
    "# Pareto verisi için kümülatif satış yüzdesini hesaplıyoruz\n",
    "pareto_data_cumulative = pareto_data.cumsum() / pareto_data.sum()\n",
    "# Pareto ürünlerini 80/20 kuralına göre seçiyoruz\n",
    "pareto_products = pareto_data[pareto_data_cumulative <= 0.8]\n",
    "# Cohort analizi: İlk satın alma ayına göre müşteri analizi\n",
    "merged_data['first_purchase_month'] = merged_data.groupby('musteri_id')['tarih'].transform('min').dt.to_period('M')\n",
    "merged_data['tarih_month'] = merged_data['tarih'].dt.to_period('M')\n",
    "# Müşterilerin ilk satın alma ayına göre cohort analizini yapıyoruz\n",
    "cohort_data = merged_data.groupby(['first_purchase_month', 'tarih_month']).size().unstack(fill_value=0)\n",
    "\n",
    "\n",
    "from sklearn.linear_model import LinearRegression\n",
    "from sklearn.model_selection import train_test_split\n",
    "# Satış tahmini modeli\n",
    "X = merged_data[['fiyat', 'adet']]  \n",
    "y = merged_data['toplam_satis'] \n",
    "\n",
    "# Eğitim ve test verilerine ayırma\n",
    "X_train, X_test, y_train, y_test = train_test_split(X, y, test_size=0.2, random_state=42)\n",
    "# Modeli oluşturma ve eğitme\n",
    "model = LinearRegression()\n",
    "model.fit(X_train, y_train)\n",
    "# Model doğruluğu\n",
    "score = model.score(X_test, y_test)\n",
    "print(f\"Modelin doğruluk skoru: {score:.2f}\")\n"
   ]
  },
  {
   "cell_type": "code",
   "execution_count": null,
   "metadata": {},
   "outputs": [],
   "source": [
    "y_pred = model.predict(X_test)\n",
    "plt.scatter(y_test, y_pred)\n",
    "plt.title(\"Gerçek vs Tahmin Satışlar\")\n",
    "plt.xlabel(\"Gerçek Satışlar\")\n",
    "plt.ylabel(\"Tahmin Edilen Satışlar\")\n",
    "plt.show()"
   ]
  },
  {
   "cell_type": "code",
   "execution_count": null,
   "metadata": {},
   "outputs": [],
   "source": []
  },
  {
   "cell_type": "code",
   "execution_count": null,
   "metadata": {},
   "outputs": [],
   "source": []
  }
 ],
 "metadata": {
  "kernelspec": {
   "display_name": "Python 3",
   "language": "python",
   "name": "python3"
  },
  "language_info": {
   "codemirror_mode": {
    "name": "ipython",
    "version": 3
   },
   "file_extension": ".py",
   "mimetype": "text/x-python",
   "name": "python",
   "nbconvert_exporter": "python",
   "pygments_lexer": "ipython3",
   "version": "3.11.9"
  }
 },
 "nbformat": 4,
 "nbformat_minor": 2
}
